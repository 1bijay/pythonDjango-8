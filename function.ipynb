{
 "cells": [
  {
   "cell_type": "markdown",
   "id": "8bfdef53-b00f-407f-b7fc-ee8f50f58a9f",
   "metadata": {},
   "source": [
    "#function"
   ]
  },
  {
   "cell_type": "code",
   "execution_count": null,
   "id": "7ecfee10-0045-4cb9-b3d7-c0c82f4f9b17",
   "metadata": {},
   "outputs": [],
   "source": [
    "#grouping satement(s) in one block to perform specific task\n",
    "#sum, diff ,prd, div,rem,sqrt,pow,and others\n",
    "#input, process,output\n",
    "#write on file,read from file\n",
    "#save on database, and retrive from database"
   ]
  },
  {
   "cell_type": "code",
   "execution_count": 1,
   "id": "bab49e83-0514-42d9-b2a1-9716bce619be",
   "metadata": {},
   "outputs": [],
   "source": [
    "# how to create a function\n",
    "def function_name():\n",
    "    #statements\n",
    "    pass\n",
    "def f1():\n",
    "    print(\"hello from broadway\")\n",
    "    \n",
    "def calc_sum(n1,n2):\n",
    "    print(n1+n2)\n",
    "    \n",
    "def calc_sum2(n1,n2):\n",
    "    return n1+n2\n",
    "    "
   ]
  },
  {
   "cell_type": "code",
   "execution_count": null,
   "id": "3ca37b64-df6a-416b-a42c-0005e7dd3782",
   "metadata": {},
   "outputs": [],
   "source": [
    "#calling function\n",
    "#for i in range(10):\n",
    "#    f1()\n",
    "\n",
    "num1 = 5\n",
    "num2 = 7\n",
    "calc_sum(num1,num2)# call\n",
    "\n",
    "num1 = input(\" enter first no :\")\n",
    "num2 = input(\" enter second no : \")\n",
    "num1 = int(num1)\n",
    "num2 = int(num2)\n",
    "calc_sum(num1,num2)#call\n",
    "\n",
    "res =calc_sum2(6,7)\n",
    "print(res)\n"
   ]
  },
  {
   "cell_type": "code",
   "execution_count": null,
   "id": "5023501a-b855-452f-82fc-4380f90daf98",
   "metadata": {},
   "outputs": [],
   "source": [
    "#task 6\n",
    "#enter id : _1\n",
    "#enter Name : _raj\n",
    "# enter sub1 : _56\n",
    "#enter sub2 : _54\n",
    "#enter sub3 :  _45\n",
    "#total :155\n",
    "# average : 51.xxxx\n",
    "# result : pass\n",
    "# create a funcytions  to solve the result processing system."
   ]
  },
  {
   "cell_type": "code",
   "execution_count": 25,
   "id": "b1152edd-01b1-4ae1-8839-582e14d05d67",
   "metadata": {},
   "outputs": [],
   "source": [
    "#fumctions\n",
    "def f1():\n",
    "    print(\"hello from f1\")\n",
    "def f2(num1,num2):\n",
    "    print(\"num1+num2\")\n",
    "def f3():\n",
    "    return 10+34\n",
    "def f4(num1,num2):\n",
    "    return num1+num2\n",
    "def f5(num1=0,num2=0):\n",
    "    return num1+num2\n"
   ]
  },
  {
   "cell_type": "code",
   "execution_count": 29,
   "id": "0e14bbde-8899-4c62-b46d-acfabb3f69f1",
   "metadata": {},
   "outputs": [
    {
     "name": "stdout",
     "output_type": "stream",
     "text": [
      "7\n"
     ]
    }
   ],
   "source": [
    "#f1()\n",
    "#f2(\"1\",\"Nepal\")\n",
    "#f2(1,2)\n",
    "#f3()\n",
    "#var1 = f3()\n",
    "#print(var1)\n",
    "#result =f4(4,8)\n",
    "#print(result)\n",
    "#res =f5(num1=7,num2=8)\n",
    "#print(res)\n",
    "#res =f5(num2=9,num1=4)\n",
    "#print(res)\n",
    "#res =f5(num2=5)\n",
    "#print(res)\n",
    "res =f5(num1=7)\n",
    "print(res)\n"
   ]
  },
  {
   "cell_type": "code",
   "execution_count": null,
   "id": "1b142505-eb6c-4dd1-9129-8e05bcf406b1",
   "metadata": {},
   "outputs": [],
   "source": []
  },
  {
   "cell_type": "code",
   "execution_count": null,
   "id": "fab20821-79c3-46d2-8804-be8d1dfbf166",
   "metadata": {},
   "outputs": [],
   "source": []
  }
 ],
 "metadata": {
  "kernelspec": {
   "display_name": "Python 3 (ipykernel)",
   "language": "python",
   "name": "python3"
  },
  "language_info": {
   "codemirror_mode": {
    "name": "ipython",
    "version": 3
   },
   "file_extension": ".py",
   "mimetype": "text/x-python",
   "name": "python",
   "nbconvert_exporter": "python",
   "pygments_lexer": "ipython3",
   "version": "3.10.4"
  }
 },
 "nbformat": 4,
 "nbformat_minor": 5
}
