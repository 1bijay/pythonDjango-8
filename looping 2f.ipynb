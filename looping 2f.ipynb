{
 "cells": [
  {
   "cell_type": "markdown",
   "id": "df08a2e2-fc91-4da3-aa26-ac212777ad61",
   "metadata": {},
   "source": [
    "#looping statement"
   ]
  },
  {
   "cell_type": "code",
   "execution_count": 5,
   "id": "0e4cbde6-4660-42ba-8bbc-fbdb080b6aa7",
   "metadata": {},
   "outputs": [
    {
     "name": "stdout",
     "output_type": "stream",
     "text": [
      "1\n",
      "2\n",
      "3\n",
      "4\n",
      "5\n",
      "6\n",
      "7\n",
      "8\n",
      "9\n",
      "10\n"
     ]
    }
   ],
   "source": [
    "#example\n",
    "#print\n",
    "start_no = 1\n",
    "stop_no = 10\n",
    "while start_no<=stop_no:\n",
    "    print(start_no)\n",
    "    start_no+=1"
   ]
  },
  {
   "cell_type": "code",
   "execution_count": 6,
   "id": "ebfe2df1-5f91-4e06-8a91-c2232a8c49f3",
   "metadata": {},
   "outputs": [
    {
     "name": "stdout",
     "output_type": "stream",
     "text": [
      "10\n",
      "9\n",
      "8\n",
      "7\n",
      "6\n",
      "5\n",
      "4\n",
      "3\n",
      "2\n",
      "1\n"
     ]
    }
   ],
   "source": [
    "start_no =10\n",
    "stop_no= 1\n",
    "while start_no>=stop_no:\n",
    "    print(start_no)\n",
    "    start_no-=1"
   ]
  },
  {
   "cell_type": "code",
   "execution_count": 12,
   "id": "9d62a492-c450-49fd-8a30-228a9057f481",
   "metadata": {},
   "outputs": [
    {
     "name": "stdout",
     "output_type": "stream",
     "text": [
      "55\n",
      "5.5\n"
     ]
    }
   ],
   "source": [
    "# print sum of 1 to 10\n",
    "result=0\n",
    "average=None\n",
    "start_no = 1\n",
    "stop_no =10\n",
    "while start_no<=stop_no:\n",
    "    result+=start_no\n",
    "    start_no+=1\n",
    "average=result/10    \n",
    "print(result)\n",
    "print(average)\n",
    "    \n",
    "    "
   ]
  },
  {
   "cell_type": "markdown",
   "id": "4c037a5b-9fbd-4cf6-9fed-7f40afdd4866",
   "metadata": {},
   "source": [
    "##for loop"
   ]
  },
  {
   "cell_type": "code",
   "execution_count": 13,
   "id": "813f43d8-935b-4b8a-8e95-b4a442d23854",
   "metadata": {},
   "outputs": [
    {
     "name": "stdout",
     "output_type": "stream",
     "text": [
      "1\n",
      "2\n",
      "3\n",
      "4\n",
      "5\n",
      "6\n",
      "7\n",
      "8\n",
      "9\n",
      "10\n"
     ]
    }
   ],
   "source": [
    "#print 1 to 10\n",
    "for n in range( 1,11):\n",
    "    print(n)"
   ]
  },
  {
   "cell_type": "code",
   "execution_count": 16,
   "id": "372dd768-3885-49e5-a14c-b35035fef88f",
   "metadata": {},
   "outputs": [
    {
     "name": "stdout",
     "output_type": "stream",
     "text": [
      "10\n",
      "9\n",
      "8\n",
      "7\n",
      "6\n",
      "5\n",
      "4\n",
      "3\n",
      "2\n",
      "1\n"
     ]
    }
   ],
   "source": [
    "#print 10 to 1\n",
    "for n in range(10,0,-1):\n",
    "    print(n)"
   ]
  },
  {
   "cell_type": "code",
   "execution_count": 18,
   "id": "7dd3ea37-c0e8-4db3-abae-97cce442fdc5",
   "metadata": {},
   "outputs": [
    {
     "name": "stdout",
     "output_type": "stream",
     "text": [
      "55\n",
      "5.5\n"
     ]
    }
   ],
   "source": [
    "#print sum, average of 1 to 10\n",
    "total = 0\n",
    "average =0\n",
    "for n in range (1,11,1):\n",
    "    total+=n\n",
    "average=total/10\n",
    "print(total)\n",
    "print(average)"
   ]
  },
  {
   "cell_type": "code",
   "execution_count": 26,
   "id": "24013fae-2e2b-4387-8a44-7f1b50c861b0",
   "metadata": {},
   "outputs": [
    {
     "name": "stdout",
     "output_type": "stream",
     "text": [
      "1 1\n",
      "1 2\n",
      "1 3\n",
      "1 4\n",
      "1 5\n",
      "2 1\n",
      "2 2\n",
      "2 3\n",
      "2 4\n",
      "2 5\n",
      "3 1\n",
      "3 2\n",
      "3 3\n",
      "3 4\n",
      "3 5\n",
      "4 1\n",
      "4 2\n",
      "4 3\n",
      "4 4\n",
      "4 5\n",
      "5 1\n",
      "5 2\n",
      "5 3\n",
      "5 4\n",
      "5 5\n"
     ]
    }
   ],
   "source": [
    "#Nested loop\n",
    "for i in range (1,6,1):\n",
    "    for j in range(1,6,1):\n",
    "        print(i,j)"
   ]
  },
  {
   "cell_type": "code",
   "execution_count": 32,
   "id": "8b203b1f-7d27-41ee-9874-72a071134ea5",
   "metadata": {},
   "outputs": [
    {
     "name": "stdout",
     "output_type": "stream",
     "text": [
      "array('i', [5, 6, 7, 64, 39])\n"
     ]
    }
   ],
   "source": [
    "#array with loop\n",
    "from array import array\n",
    "arr1 = array('i',[5,6,7,64,39])\n",
    "print(arr1)"
   ]
  },
  {
   "cell_type": "code",
   "execution_count": 33,
   "id": "39ed54c4-6c6c-40aa-aef4-0334aadb6fd6",
   "metadata": {},
   "outputs": [
    {
     "name": "stdout",
     "output_type": "stream",
     "text": [
      "5\n",
      "6\n",
      "7\n",
      "64\n",
      "39\n",
      "121\n",
      "24.2\n"
     ]
    }
   ],
   "source": [
    "#for loop with array\n",
    "total = 0\n",
    "average = 0\n",
    "for i in range (0, len(arr1), 1):\n",
    "    total+=arr1[i]\n",
    "    print(arr1[i])\n",
    "average=total/len(arr1)\n",
    "print(total)\n",
    "print(average)\n",
    "   "
   ]
  },
  {
   "cell_type": "code",
   "execution_count": 35,
   "id": "686bdb42-9fcf-4a12-9872-36737d4034d5",
   "metadata": {},
   "outputs": [
    {
     "name": "stdout",
     "output_type": "stream",
     "text": [
      "64\n",
      "5\n"
     ]
    }
   ],
   "source": [
    "#find smallest element of an array.\n",
    "#find largest element of an array .\n",
    "#search a number with an array.\n",
    "min_element = min(arr1)\n",
    "max_element = max(arr1)\n",
    "print(max_element)\n",
    "print(min_element)"
   ]
  },
  {
   "cell_type": "code",
   "execution_count": 41,
   "id": "2612451a-c376-4bae-8091-98c679b40af1",
   "metadata": {},
   "outputs": [
    {
     "name": "stdin",
     "output_type": "stream",
     "text": [
      "enter any number:  67\n"
     ]
    },
    {
     "name": "stdout",
     "output_type": "stream",
     "text": [
      "Not found\n"
     ]
    }
   ],
   "source": [
    "#find a number wiath an array\n",
    "n = input(\"enter any number: \")\n",
    "n = int(n)\n",
    "result = False \n",
    "#search with an array?\n",
    "for i in range(0,len(arr1),1):\n",
    "     if arr1[i]==n:\n",
    "       print(\"found at\",i,\"index\")\n",
    "       result=True\n",
    "       break\n",
    "if (result==False):\n",
    "     print(\"Not found\")\n",
    "    \n",
    "\n",
    "    "
   ]
  },
  {
   "cell_type": "code",
   "execution_count": null,
   "id": "31dcc205-f196-42ed-90ae-cadf83e2c6fa",
   "metadata": {},
   "outputs": [],
   "source": [
    "#arranging array element ("
   ]
  },
  {
   "cell_type": "code",
   "execution_count": 43,
   "id": "ed7d9db6-ce14-4899-a9d3-a88f9a8ca48c",
   "metadata": {},
   "outputs": [
    {
     "name": "stdout",
     "output_type": "stream",
     "text": [
      "0\n",
      "1\n",
      "2\n",
      "3\n",
      "4\n",
      "6\n",
      "7\n",
      "8\n",
      "9\n",
      "10\n"
     ]
    }
   ],
   "source": [
    "#contine statement\n",
    "for n in range(11):\n",
    "    if(n==5):\n",
    "        continue\n",
    "    print(n)\n",
    "    "
   ]
  },
  {
   "cell_type": "code",
   "execution_count": 44,
   "id": "0bf26d44-449c-462e-b465-fb8a3804f33f",
   "metadata": {},
   "outputs": [
    {
     "name": "stdout",
     "output_type": "stream",
     "text": [
      "0\n",
      "1\n",
      "2\n",
      "3\n",
      "4\n"
     ]
    }
   ],
   "source": [
    "#break statement\n",
    "for n in range(11):\n",
    "    if(n==5):\n",
    "        break\n",
    "    print(n)"
   ]
  },
  {
   "cell_type": "code",
   "execution_count": null,
   "id": "4144104a-77a2-47c6-99e9-038bcbe7e53e",
   "metadata": {},
   "outputs": [],
   "source": []
  }
 ],
 "metadata": {
  "kernelspec": {
   "display_name": "Python 3 (ipykernel)",
   "language": "python",
   "name": "python3"
  },
  "language_info": {
   "codemirror_mode": {
    "name": "ipython",
    "version": 3
   },
   "file_extension": ".py",
   "mimetype": "text/x-python",
   "name": "python",
   "nbconvert_exporter": "python",
   "pygments_lexer": "ipython3",
   "version": "3.10.4"
  }
 },
 "nbformat": 4,
 "nbformat_minor": 5
}
