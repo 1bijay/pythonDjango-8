{
 "cells": [
  {
   "cell_type": "code",
   "execution_count": 1,
   "id": "2486fca3-aa31-45b7-987c-bf2652f4ff6f",
   "metadata": {},
   "outputs": [],
   "source": [
    "def result(sub1,sub2,sub3):\n",
    "    return sub1+sub2+sub3"
   ]
  },
  {
   "cell_type": "code",
   "execution_count": 2,
   "id": "39027739-991d-4502-938c-406b6b22a8cf",
   "metadata": {},
   "outputs": [
    {
     "name": "stdin",
     "output_type": "stream",
     "text": [
      "Enter your id :  1\n",
      "Enter your Name :  Bijay\n",
      "Enter a Physics marks:  67\n",
      "Enter a Computer marks:  45\n",
      "Enter a Chemistry marks:  66\n"
     ]
    },
    {
     "name": "stdout",
     "output_type": "stream",
     "text": [
      "Total num:  178\n",
      "Average :  59.333333333333336 %\n",
      "pass\n",
      "C\n"
     ]
    }
   ],
   "source": [
    "id=int(input(\"Enter your id : \"))\n",
    "name=(input(\"Enter your Name : \"))\n",
    "sub1=int(input(\"Enter a Physics marks: \"))\n",
    "sub2=int(input(\"Enter a Computer marks: \"))\n",
    "sub3=int(input(\"Enter a Chemistry marks: \"))\n",
    "res=result(sub1,sub2,sub3)\n",
    "print(\"Total num: \",res)\n",
    "avg = res/3\n",
    "print(\"Average : \",avg,\"%\")\n",
    "if(sub1>=40 and sub2>=40 and sub3>=40 ):\n",
    "  print(\"pass\")\n",
    "else:\n",
    "  print(\"Fail\")\n",
    "\n",
    "if(avg>=90 and avg<=100):\n",
    "  print(\"A+\")\n",
    "elif(avg>=80 and avg<90):\n",
    "  print(\"A\")\n",
    "elif(avg>=60 and avg<80):\n",
    "  print(\"B\")\n",
    "elif(avg>=40 and avg<60):\n",
    "  print(\"C\")\n",
    "elif(avg>=30 and avg<40):\n",
    "  print(\"D\")\n",
    "else:\n",
    "  print(\"E\")\n"
   ]
  },
  {
   "cell_type": "code",
   "execution_count": null,
   "id": "028cb2e8-ae9d-4012-bbb2-6a12128e3ba8",
   "metadata": {},
   "outputs": [],
   "source": []
  }
 ],
 "metadata": {
  "kernelspec": {
   "display_name": "Python 3 (ipykernel)",
   "language": "python",
   "name": "python3"
  },
  "language_info": {
   "codemirror_mode": {
    "name": "ipython",
    "version": 3
   },
   "file_extension": ".py",
   "mimetype": "text/x-python",
   "name": "python",
   "nbconvert_exporter": "python",
   "pygments_lexer": "ipython3",
   "version": "3.10.4"
  }
 },
 "nbformat": 4,
 "nbformat_minor": 5
}
