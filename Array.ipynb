{
 "cells": [
  {
   "cell_type": "markdown",
   "id": "7632214a-dee4-46ef-8656-cb4dac58846c",
   "metadata": {},
   "source": [
    "##Array class"
   ]
  },
  {
   "cell_type": "code",
   "execution_count": 1,
   "id": "57780013-fa9c-449b-b802-3e82eed6baf1",
   "metadata": {},
   "outputs": [],
   "source": [
    "from array import array "
   ]
  },
  {
   "cell_type": "markdown",
   "id": "4bf06689-0ceb-4f2d-955b-7bae03013590",
   "metadata": {
    "tags": []
   },
   "source": [
    "## declare and initialize"
   ]
  },
  {
   "cell_type": "code",
   "execution_count": 4,
   "id": "8427f63b-8301-45d0-8b9d-6e1fbe7f1d8f",
   "metadata": {},
   "outputs": [
    {
     "name": "stdout",
     "output_type": "stream",
     "text": [
      "array('i', [4, 6, 8, 9, 3])\n",
      "<class 'array.array'>\n",
      "True\n",
      "2779804263072\n",
      "9\n",
      "3\n",
      "30\n",
      "5\n"
     ]
    }
   ],
   "source": [
    "arr1 = array('i', [4,6,8,9,3])\n",
    "print(arr1)\n",
    "print(type(arr1))\n",
    "print(isinstance(arr1,array))\n",
    "print(id(arr1))\n",
    "print(max(arr1))\n",
    "print(min(arr1))\n",
    "print(sum(arr1))\n",
    "print(len(arr1))"
   ]
  },
  {
   "cell_type": "code",
   "execution_count": 6,
   "id": "902a7a57-d21a-40f7-87f9-78d7410d9a60",
   "metadata": {},
   "outputs": [
    {
     "name": "stdout",
     "output_type": "stream",
     "text": [
      "Help on class array in module array:\n",
      "\n",
      "class array(builtins.object)\n",
      " |  array(typecode [, initializer]) -> array\n",
      " |  \n",
      " |  Return a new array whose items are restricted by typecode, and\n",
      " |  initialized from the optional initializer value, which must be a list,\n",
      " |  string or iterable over elements of the appropriate type.\n",
      " |  \n",
      " |  Arrays represent basic values and behave very much like lists, except\n",
      " |  the type of objects stored in them is constrained. The type is specified\n",
      " |  at object creation time by using a type code, which is a single character.\n",
      " |  The following type codes are defined:\n",
      " |  \n",
      " |      Type code   C Type             Minimum size in bytes\n",
      " |      'b'         signed integer     1\n",
      " |      'B'         unsigned integer   1\n",
      " |      'u'         Unicode character  2 (see note)\n",
      " |      'h'         signed integer     2\n",
      " |      'H'         unsigned integer   2\n",
      " |      'i'         signed integer     2\n",
      " |      'I'         unsigned integer   2\n",
      " |      'l'         signed integer     4\n",
      " |      'L'         unsigned integer   4\n",
      " |      'q'         signed integer     8 (see note)\n",
      " |      'Q'         unsigned integer   8 (see note)\n",
      " |      'f'         floating point     4\n",
      " |      'd'         floating point     8\n",
      " |  \n",
      " |  NOTE: The 'u' typecode corresponds to Python's unicode character. On\n",
      " |  narrow builds this is 2-bytes on wide builds this is 4-bytes.\n",
      " |  \n",
      " |  NOTE: The 'q' and 'Q' type codes are only available if the platform\n",
      " |  C compiler used to build Python supports 'long long', or, on Windows,\n",
      " |  '__int64'.\n",
      " |  \n",
      " |  Methods:\n",
      " |  \n",
      " |  append() -- append a new item to the end of the array\n",
      " |  buffer_info() -- return information giving the current memory info\n",
      " |  byteswap() -- byteswap all the items of the array\n",
      " |  count() -- return number of occurrences of an object\n",
      " |  extend() -- extend array by appending multiple elements from an iterable\n",
      " |  fromfile() -- read items from a file object\n",
      " |  fromlist() -- append items from the list\n",
      " |  frombytes() -- append items from the string\n",
      " |  index() -- return index of first occurrence of an object\n",
      " |  insert() -- insert a new item into the array at a provided position\n",
      " |  pop() -- remove and return item (default last)\n",
      " |  remove() -- remove first occurrence of an object\n",
      " |  reverse() -- reverse the order of the items in the array\n",
      " |  tofile() -- write all items to a file object\n",
      " |  tolist() -- return the array converted to an ordinary list\n",
      " |  tobytes() -- return the array converted to a string\n",
      " |  \n",
      " |  Attributes:\n",
      " |  \n",
      " |  typecode -- the typecode character used to create the array\n",
      " |  itemsize -- the length in bytes of one array item\n",
      " |  \n",
      " |  Methods defined here:\n",
      " |  \n",
      " |  __add__(self, value, /)\n",
      " |      Return self+value.\n",
      " |  \n",
      " |  __contains__(self, key, /)\n",
      " |      Return key in self.\n",
      " |  \n",
      " |  __copy__(self, /)\n",
      " |      Return a copy of the array.\n",
      " |  \n",
      " |  __deepcopy__(self, unused, /)\n",
      " |      Return a copy of the array.\n",
      " |  \n",
      " |  __delitem__(self, key, /)\n",
      " |      Delete self[key].\n",
      " |  \n",
      " |  __eq__(self, value, /)\n",
      " |      Return self==value.\n",
      " |  \n",
      " |  __ge__(self, value, /)\n",
      " |      Return self>=value.\n",
      " |  \n",
      " |  __getattribute__(self, name, /)\n",
      " |      Return getattr(self, name).\n",
      " |  \n",
      " |  __getitem__(self, key, /)\n",
      " |      Return self[key].\n",
      " |  \n",
      " |  __gt__(self, value, /)\n",
      " |      Return self>value.\n",
      " |  \n",
      " |  __iadd__(self, value, /)\n",
      " |      Implement self+=value.\n",
      " |  \n",
      " |  __imul__(self, value, /)\n",
      " |      Implement self*=value.\n",
      " |  \n",
      " |  __iter__(self, /)\n",
      " |      Implement iter(self).\n",
      " |  \n",
      " |  __le__(self, value, /)\n",
      " |      Return self<=value.\n",
      " |  \n",
      " |  __len__(self, /)\n",
      " |      Return len(self).\n",
      " |  \n",
      " |  __lt__(self, value, /)\n",
      " |      Return self<value.\n",
      " |  \n",
      " |  __mul__(self, value, /)\n",
      " |      Return self*value.\n",
      " |  \n",
      " |  __ne__(self, value, /)\n",
      " |      Return self!=value.\n",
      " |  \n",
      " |  __reduce_ex__(self, value, /)\n",
      " |      Return state information for pickling.\n",
      " |  \n",
      " |  __repr__(self, /)\n",
      " |      Return repr(self).\n",
      " |  \n",
      " |  __rmul__(self, value, /)\n",
      " |      Return value*self.\n",
      " |  \n",
      " |  __setitem__(self, key, value, /)\n",
      " |      Set self[key] to value.\n",
      " |  \n",
      " |  __sizeof__(self, /)\n",
      " |      Size of the array in memory, in bytes.\n",
      " |  \n",
      " |  append(self, v, /)\n",
      " |      Append new value v to the end of the array.\n",
      " |  \n",
      " |  buffer_info(self, /)\n",
      " |      Return a tuple (address, length) giving the current memory address and the length in items of the buffer used to hold array's contents.\n",
      " |      \n",
      " |      The length should be multiplied by the itemsize attribute to calculate\n",
      " |      the buffer length in bytes.\n",
      " |  \n",
      " |  byteswap(self, /)\n",
      " |      Byteswap all items of the array.\n",
      " |      \n",
      " |      If the items in the array are not 1, 2, 4, or 8 bytes in size, RuntimeError is\n",
      " |      raised.\n",
      " |  \n",
      " |  count(self, v, /)\n",
      " |      Return number of occurrences of v in the array.\n",
      " |  \n",
      " |  extend(self, bb, /)\n",
      " |      Append items to the end of the array.\n",
      " |  \n",
      " |  frombytes(self, buffer, /)\n",
      " |      Appends items from the string, interpreting it as an array of machine values, as if it had been read from a file using the fromfile() method.\n",
      " |  \n",
      " |  fromfile(self, f, n, /)\n",
      " |      Read n objects from the file object f and append them to the end of the array.\n",
      " |  \n",
      " |  fromlist(self, list, /)\n",
      " |      Append items to array from list.\n",
      " |  \n",
      " |  fromunicode(self, ustr, /)\n",
      " |      Extends this array with data from the unicode string ustr.\n",
      " |      \n",
      " |      The array must be a unicode type array; otherwise a ValueError is raised.\n",
      " |      Use array.frombytes(ustr.encode(...)) to append Unicode data to an array of\n",
      " |      some other type.\n",
      " |  \n",
      " |  index(self, v, start=0, stop=9223372036854775807, /)\n",
      " |      Return index of first occurrence of v in the array.\n",
      " |      \n",
      " |      Raise ValueError if the value is not present.\n",
      " |  \n",
      " |  insert(self, i, v, /)\n",
      " |      Insert a new item v into the array before position i.\n",
      " |  \n",
      " |  pop(self, i=-1, /)\n",
      " |      Return the i-th element and delete it from the array.\n",
      " |      \n",
      " |      i defaults to -1.\n",
      " |  \n",
      " |  remove(self, v, /)\n",
      " |      Remove the first occurrence of v in the array.\n",
      " |  \n",
      " |  reverse(self, /)\n",
      " |      Reverse the order of the items in the array.\n",
      " |  \n",
      " |  tobytes(self, /)\n",
      " |      Convert the array to an array of machine values and return the bytes representation.\n",
      " |  \n",
      " |  tofile(self, f, /)\n",
      " |      Write all items (as machine values) to the file object f.\n",
      " |  \n",
      " |  tolist(self, /)\n",
      " |      Convert array to an ordinary list with the same items.\n",
      " |  \n",
      " |  tounicode(self, /)\n",
      " |      Extends this array with data from the unicode string ustr.\n",
      " |      \n",
      " |      Convert the array to a unicode string.  The array must be a unicode type array;\n",
      " |      otherwise a ValueError is raised.  Use array.tobytes().decode() to obtain a\n",
      " |      unicode string from an array of some other type.\n",
      " |  \n",
      " |  ----------------------------------------------------------------------\n",
      " |  Static methods defined here:\n",
      " |  \n",
      " |  __new__(*args, **kwargs) from builtins.type\n",
      " |      Create and return a new object.  See help(type) for accurate signature.\n",
      " |  \n",
      " |  ----------------------------------------------------------------------\n",
      " |  Data descriptors defined here:\n",
      " |  \n",
      " |  itemsize\n",
      " |      the size, in bytes, of one array item\n",
      " |  \n",
      " |  typecode\n",
      " |      the typecode character used to create the array\n",
      " |  \n",
      " |  ----------------------------------------------------------------------\n",
      " |  Data and other attributes defined here:\n",
      " |  \n",
      " |  __hash__ = None\n",
      "\n"
     ]
    }
   ],
   "source": [
    "#dir(array)\n",
    "help(array)"
   ]
  },
  {
   "cell_type": "code",
   "execution_count": 8,
   "id": "8fd3b287-ac97-4604-8429-b0cdc4c7b018",
   "metadata": {},
   "outputs": [
    {
     "name": "stdout",
     "output_type": "stream",
     "text": [
      "array('i', [4, 6, 8, 9, 3, 1])\n",
      "array('i', [4, 6, 8, 9, 3, 1, 1])\n",
      "array('i', [4, 6, 8, 9, 3, 1, 1, 7])\n"
     ]
    }
   ],
   "source": [
    "# append(self, v, /)\n",
    "print(arr1)\n",
    "arr1.append(1)\n",
    "print(arr1)\n",
    "arr1.append(7)\n",
    "print(arr1)"
   ]
  },
  {
   "cell_type": "code",
   "execution_count": null,
   "id": "f777d0c9-c2f6-4620-ae5c-052a88706bee",
   "metadata": {},
   "outputs": [],
   "source": [
    "arr1 = array('i',[34,5,6,78,56,77,64,56,8,990,23,4,5,6,8,9,4,556,6,7,4,3,5,56,67,7,4,56,4,6,6,6,4,5,6,4,78,567,86,4]"
   ]
  },
  {
   "cell_type": "code",
   "execution_count": 16,
   "id": "16b4815c-6095-448c-8bb9-248e1b39e62f",
   "metadata": {},
   "outputs": [
    {
     "name": "stdout",
     "output_type": "stream",
     "text": [
      "8\n",
      "0\n",
      "0\n"
     ]
    }
   ],
   "source": [
    "#count(self, v, /)->int\n",
    "#arr1 = array('i',[34,5,6,78,56,77,64,56,8,990,23,4,5,6,8,9,4,556,6,7,4,3,5,56,67,7,4,56,4,6,6,6,4,5,6,4,78,567,86,4])\n",
    "result = arr1.count(4)\n",
    "print(result)\n",
    "result = arr1.count(1)\n",
    "print(result)\n",
    "result = arr1.count(10)\n",
    "print(result)"
   ]
  },
  {
   "cell_type": "code",
   "execution_count": 19,
   "id": "e2bc10b2-cfcd-415a-a9ea-25f77cca9718",
   "metadata": {},
   "outputs": [
    {
     "name": "stdout",
     "output_type": "stream",
     "text": [
      "6\n",
      "12\n",
      "18\n",
      "24\n",
      "30\n",
      "array('i', [6, 4, 3, 7, 8, 9, 6, 7, 8, 9, 1, 4, 6, 4, 6, 7, 8, 9, 5, 6, 7, 8, 89, 74, 5, 6, 78, 4, 67, 8])\n"
     ]
    }
   ],
   "source": [
    "# extend(self, bb, /) mean adding number of elemnet of array in previous array \n",
    "arr1 = array('i',[6,4,3,7,8,9])\n",
    "print(len(arr1))\n",
    "arr1.extend([6,7,8,9,1,4])#list\n",
    "print(len(arr1))\n",
    "arr1.extend((6,4,6,7,8,9))#tiple\n",
    "print(len(arr1))\n",
    "arr1.extend({5,6,74,7,89,8})#set\n",
    "print(len(arr1))\n",
    "arr2 = array('i',[5,6,78,4,67,8,]) #array\n",
    "arr1.extend(arr2)\n",
    "print(len(arr1))\n",
    "print(arr1)\n"
   ]
  },
  {
   "cell_type": "code",
   "execution_count": 26,
   "id": "91468315-d07f-41f8-b36b-36196ed7290b",
   "metadata": {},
   "outputs": [
    {
     "name": "stdout",
     "output_type": "stream",
     "text": [
      "23\n",
      "4\n",
      "2\n",
      "11\n"
     ]
    }
   ],
   "source": [
    "#index(self, v, start=0, stop=9223372036854775807, /)->\n",
    "arr1 = array('i',[5,1,2,3,4,5,7,8,9,6,4,2,3,7,8,9,2,23,45,2,65,76,87])\n",
    "print(len(arr1))\n",
    "print(arr1.count(2))\n",
    "result = arr1.index(2,0,len(arr1))\n",
    "print(result)\n",
    "result = arr1.index(2,result+1,len(arr1))\n",
    "print(result)\n"
   ]
  },
  {
   "cell_type": "code",
   "execution_count": 13,
   "id": "f2f14cf6-49a7-47e4-bc00-e93124886a69",
   "metadata": {},
   "outputs": [
    {
     "name": "stdout",
     "output_type": "stream",
     "text": [
      "array('i', [5, 1, 2, 3, 4, 5, 7, 8])\n",
      "array('i', [5, 1, 2, 3, 4, 5, 7, 9, 8])\n",
      "array('i', [5, 1, 2, 3, 4, 5, 7, 9, 8, 5])\n",
      "array('i', [5, 1, 2, 3, 4, 5, 7, 9, 8, 5, 5])\n"
     ]
    }
   ],
   "source": [
    "# insert(self, i, v, /) it add the  number in specific index \n",
    "from array import array\n",
    "arr1 = array('i',[5,1,2,3,4,5,7,8])\n",
    "print(arr1)\n",
    "arr1.insert(7,9)\n",
    "print(arr1)\n",
    "arr1.append(5)\n",
    "print(arr1)\n",
    "arr1.insert(100,5) # in this case it add number in last index \n",
    "print(arr1)"
   ]
  },
  {
   "cell_type": "code",
   "execution_count": 10,
   "id": "16e2a622-de8e-41ec-b5ae-cf84c8658bbe",
   "metadata": {},
   "outputs": [
    {
     "name": "stdout",
     "output_type": "stream",
     "text": [
      "array('i', [5, 1, 2, 3, 4, 5, 7, 9, 8])\n",
      "array('i', [5, 1, 2, 3, 4, 5, 9, 8])\n",
      "array('i', [5, 1, 2, 3, 4, 5, 9])\n",
      "array('i', [5, 1, 2, 3, 4, 5, 9])\n"
     ]
    }
   ],
   "source": [
    "#  pop(self, i=-1, /)\n",
    "print(arr1)\n",
    "arr1.pop(6)\n",
    "print(arr1)\n",
    "arr1.pop()\n",
    "print(arr1)\n",
    "#arr1.pop(100)\n",
    "print(arr1)"
   ]
  },
  {
   "cell_type": "code",
   "execution_count": 16,
   "id": "3d1dfc0f-1d23-422f-9fcb-02bfcfc2da48",
   "metadata": {},
   "outputs": [
    {
     "ename": "IndentationError",
     "evalue": "expected an indented block after 'for' statement on line 10 (658904179.py, line 11)",
     "output_type": "error",
     "traceback": [
      "\u001b[1;36m  Input \u001b[1;32mIn [16]\u001b[1;36m\u001b[0m\n\u001b[1;33m    arr2.remove(value)\u001b[0m\n\u001b[1;37m    ^\u001b[0m\n\u001b[1;31mIndentationError\u001b[0m\u001b[1;31m:\u001b[0m expected an indented block after 'for' statement on line 10\n"
     ]
    }
   ],
   "source": [
    "#remove(self, v, /)\n",
    "arr2 = array('i',[3,2,56,43,26,2])\n",
    "print(arr2)\n",
    "#arr2.remove(2)\n",
    "#print(arr2)\n",
    "value = 2\n",
    "result = arr2.count(value)\n",
    "print(result)\n",
    "if result>=1:\n",
    "    for i in range(result):\n",
    "    arr2.remove(value)\n",
    "print(arr2)\n",
    "    "
   ]
  },
  {
   "cell_type": "code",
   "execution_count": 17,
   "id": "c3d50c64-a786-4f47-bad2-f5fb2bc7bb50",
   "metadata": {},
   "outputs": [
    {
     "name": "stdout",
     "output_type": "stream",
     "text": [
      "array('i', [3, 2, 56, 43, 26, 2])\n",
      "array('i', [2, 26, 43, 56, 2, 3])\n"
     ]
    }
   ],
   "source": [
    "# reverse(self, /\n",
    "arr2 = array('i',[3,2,56,43,26,2])\n",
    "print(arr2)\n",
    "arr2.reverse()\n",
    "print(arr2)"
   ]
  },
  {
   "cell_type": "code",
   "execution_count": 19,
   "id": "2916cf24-2a62-4fa1-8603-ca5383fe1288",
   "metadata": {},
   "outputs": [
    {
     "name": "stdout",
     "output_type": "stream",
     "text": [
      "4\n",
      "i\n"
     ]
    }
   ],
   "source": [
    "#itemsize,typecode\n",
    "arr2 = array('i',[3,2,56,43,26,2])\n",
    "print(arr2.itemsize) #memory\n",
    "print(arr2.typecode) #type"
   ]
  },
  {
   "cell_type": "code",
   "execution_count": null,
   "id": "6dbbeb6f-02eb-4827-b889-885f3ece08d7",
   "metadata": {},
   "outputs": [],
   "source": [
    "# task 1\n",
    "\"\"\"\n",
    "main menu\n",
    "1. ADd\n",
    "2. display all\n",
    "3. search\n",
    "4. search and edit\n",
    "5.search and delete\n",
    "0.exit\n",
    "--------------\n",
    "Enter Your Choice: 1\n",
    "---------\n",
    "Enter value : 3\n",
    "\n",
    "--------------------\n",
    "main menu\n",
    "1. ADd\n",
    "2. display all\n",
    "3. search\n",
    "4. search and edit\n",
    "5.search and delete\n",
    "0.exit\n",
    "--------------\n",
    "Enter Your Choice: 2\n",
    "---------\n",
    " 3\n",
    " ---------------------\n",
    " main menu\n",
    "1. ADd\n",
    "2. display all\n",
    "3. search\n",
    "4. search and edit\n",
    "5.search and delete\n",
    "0.exit\n",
    "--------------\n",
    "Enter Your Choice: 1\n",
    "---------\n",
    "Enter value : 3\n",
    "----------------------\n",
    "main menu\n",
    "1. ADd\n",
    "2. display all\n",
    "3. search\n",
    "4. search and edit\n",
    "5.search and delete\n",
    "0.exit\n",
    "--------------\n",
    "Enter Your Choice: 1\n",
    "---------\n",
    "Enter value : 3\n",
    "---------------\n",
    "Enter number to Search :3\n",
    "3 found at 0 index\n",
    "\"\"\""
   ]
  }
 ],
 "metadata": {
  "kernelspec": {
   "display_name": "Python 3 (ipykernel)",
   "language": "python",
   "name": "python3"
  },
  "language_info": {
   "codemirror_mode": {
    "name": "ipython",
    "version": 3
   },
   "file_extension": ".py",
   "mimetype": "text/x-python",
   "name": "python",
   "nbconvert_exporter": "python",
   "pygments_lexer": "ipython3",
   "version": "3.10.4"
  }
 },
 "nbformat": 4,
 "nbformat_minor": 5
}
